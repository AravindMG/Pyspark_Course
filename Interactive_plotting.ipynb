{
 "cells": [
  {
   "cell_type": "code",
   "execution_count": 28,
   "metadata": {},
   "outputs": [],
   "source": [
    "import pandas as pd\n",
    "import plotly.graph_objects as go\n",
    "import chart_studio.plotly as py\n",
    "import matplotlib.pyplot as plt"
   ]
  },
  {
   "cell_type": "code",
   "execution_count": 43,
   "metadata": {},
   "outputs": [
    {
     "data": {
      "text/html": [
       "<div>\n",
       "<style scoped>\n",
       "    .dataframe tbody tr th:only-of-type {\n",
       "        vertical-align: middle;\n",
       "    }\n",
       "\n",
       "    .dataframe tbody tr th {\n",
       "        vertical-align: top;\n",
       "    }\n",
       "\n",
       "    .dataframe thead th {\n",
       "        text-align: right;\n",
       "    }\n",
       "</style>\n",
       "<table border=\"1\" class=\"dataframe\">\n",
       "  <thead>\n",
       "    <tr style=\"text-align: right;\">\n",
       "      <th></th>\n",
       "      <th>assetId</th>\n",
       "      <th>movingAvg</th>\n",
       "      <th>volume</th>\n",
       "    </tr>\n",
       "    <tr>\n",
       "      <th>timestamp</th>\n",
       "      <th></th>\n",
       "      <th></th>\n",
       "      <th></th>\n",
       "    </tr>\n",
       "  </thead>\n",
       "  <tbody>\n",
       "    <tr>\n",
       "      <th>2019-08-19 00:00:00+00:00</th>\n",
       "      <td>4b51dc57-3ccd-491f-82d0-f24e51ccdfa7</td>\n",
       "      <td>10352.316739</td>\n",
       "      <td>271509.746535</td>\n",
       "    </tr>\n",
       "    <tr>\n",
       "      <th>2019-08-19 00:05:00+00:00</th>\n",
       "      <td>4b51dc57-3ccd-491f-82d0-f24e51ccdfa7</td>\n",
       "      <td>10347.872197</td>\n",
       "      <td>270129.035105</td>\n",
       "    </tr>\n",
       "    <tr>\n",
       "      <th>2019-08-19 00:10:00+00:00</th>\n",
       "      <td>4b51dc57-3ccd-491f-82d0-f24e51ccdfa7</td>\n",
       "      <td>10335.998318</td>\n",
       "      <td>269497.099475</td>\n",
       "    </tr>\n",
       "    <tr>\n",
       "      <th>2019-08-19 00:15:00+00:00</th>\n",
       "      <td>4b51dc57-3ccd-491f-82d0-f24e51ccdfa7</td>\n",
       "      <td>10335.404455</td>\n",
       "      <td>269628.586132</td>\n",
       "    </tr>\n",
       "    <tr>\n",
       "      <th>2019-08-19 00:20:00+00:00</th>\n",
       "      <td>4b51dc57-3ccd-491f-82d0-f24e51ccdfa7</td>\n",
       "      <td>10342.251305</td>\n",
       "      <td>270484.134896</td>\n",
       "    </tr>\n",
       "  </tbody>\n",
       "</table>\n",
       "</div>"
      ],
      "text/plain": [
       "                                                        assetId     movingAvg  \\\n",
       "timestamp                                                                       \n",
       "2019-08-19 00:00:00+00:00  4b51dc57-3ccd-491f-82d0-f24e51ccdfa7  10352.316739   \n",
       "2019-08-19 00:05:00+00:00  4b51dc57-3ccd-491f-82d0-f24e51ccdfa7  10347.872197   \n",
       "2019-08-19 00:10:00+00:00  4b51dc57-3ccd-491f-82d0-f24e51ccdfa7  10335.998318   \n",
       "2019-08-19 00:15:00+00:00  4b51dc57-3ccd-491f-82d0-f24e51ccdfa7  10335.404455   \n",
       "2019-08-19 00:20:00+00:00  4b51dc57-3ccd-491f-82d0-f24e51ccdfa7  10342.251305   \n",
       "\n",
       "                                  volume  \n",
       "timestamp                                 \n",
       "2019-08-19 00:00:00+00:00  271509.746535  \n",
       "2019-08-19 00:05:00+00:00  270129.035105  \n",
       "2019-08-19 00:10:00+00:00  269497.099475  \n",
       "2019-08-19 00:15:00+00:00  269628.586132  \n",
       "2019-08-19 00:20:00+00:00  270484.134896  "
      ]
     },
     "execution_count": 43,
     "metadata": {},
     "output_type": "execute_result"
    }
   ],
   "source": [
    "df = pd.read_csv('plot.csv',header=[0], index_col=1)\n",
    "df.index = pd.to_datetime(df.index)\n",
    "df.sort_index(inplace=True)\n",
    "df.head()"
   ]
  },
  {
   "cell_type": "code",
   "execution_count": 44,
   "metadata": {},
   "outputs": [
    {
     "data": {
      "text/plain": [
       "timestamp\n",
       "2019-08-19 00:00:00+00:00    10352.316739\n",
       "2019-08-19 00:05:00+00:00    10347.872197\n",
       "2019-08-19 00:10:00+00:00    10335.998318\n",
       "2019-08-19 00:15:00+00:00    10335.404455\n",
       "2019-08-19 00:20:00+00:00    10342.251305\n",
       "Name: movingAvg, dtype: float64"
      ]
     },
     "execution_count": 44,
     "metadata": {},
     "output_type": "execute_result"
    }
   ],
   "source": [
    "pri = df.loc[:, ('movingAvg')].copy()\n",
    "pri.head()"
   ]
  },
  {
   "cell_type": "code",
   "execution_count": 45,
   "metadata": {},
   "outputs": [
    {
     "data": {
      "image/png": "[encoded data removed]",
      "text/plain": [
       "<Figure size 720x576 with 1 Axes>"
      ]
     },
     "metadata": {
      "needs_background": "light"
     },
     "output_type": "display_data"
    }
   ],
   "source": [
    "pri.plot(figsize = (10,8));\n",
    "plt.ylabel('avgPrice'); plt.title('Moving Average');"
   ]
  },
  {
   "cell_type": "code",
   "execution_count": 35,
   "metadata": {},
   "outputs": [
    {
     "data": {
      "text/plain": [
       "timestamp\n",
       "2019-08-20 00:00:00+00:00    405952.670628\n",
       "2019-08-20 00:30:00+00:00    409620.853058\n",
       "2019-08-20 01:00:00+00:00    410986.697462\n",
       "2019-08-20 01:30:00+00:00    411273.150384\n",
       "2019-08-20 02:00:00+00:00    413002.145373\n",
       "Name: 30minvolume, dtype: float64"
      ]
     },
     "execution_count": 35,
     "metadata": {},
     "output_type": "execute_result"
    }
   ],
   "source": [
    "vol = df.loc[:, ('30minvolume')].copy()\n",
    "vol.head()"
   ]
  },
  {
   "cell_type": "code",
   "execution_count": 39,
   "metadata": {},
   "outputs": [],
   "source": [
    "vol_data = go.Scatter(x=vol.index,y=vol.values, name='volume')"
   ]
  },
  {
   "cell_type": "code",
   "execution_count": 49,
   "metadata": {},
   "outputs": [
    {
     "data": {
      "application/vnd.plotly.v1+json": {
       "config": {
        "linkText": "Export to plot.ly",
        "plotlyServerURL": "https://plot.ly",
        "showLink": false
       },
       "data": [
        {
         "type": "scatter",
         "x": [
          "2019-08-19T00:00:00+00:00",
          "2019-08-19T00:05:00+00:00",
          "2019-08-19T00:10:00+00:00",
          "2019-08-19T00:15:00+00:00",
          "2019-08-19T00:20:00+00:00",
          "2019-08-19T00:25:00+00:00",
          "2019-08-19T00:30:00+00:00",
          "2019-08-19T00:35:00+00:00",
          "2019-08-19T00:40:00+00:00",
          "2019-08-19T00:45:00+00:00",
          "2019-08-19T00:50:00+00:00",
          "2019-08-19T00:55:00+00:00",
          "2019-08-19T01:00:00+00:00",
          "2019-08-19T01:05:00+00:00",
          "2019-08-19T01:10:00+00:00",
          "2019-08-19T01:15:00+00:00",
          "2019-08-19T01:20:00+00:00",
          "2019-08-19T01:25:00+00:00",
          "2019-08-19T01:30:00+00:00",
          "2019-08-19T01:35:00+00:00",
          "2019-08-19T01:40:00+00:00",
          "2019-08-19T01:45:00+00:00",
          "2019-08-19T01:50:00+00:00",
          "2019-08-19T01:55:00+00:00",
          "2019-08-19T02:00:00+00:00",
          "2019-08-19T02:05:00+00:00",
          "2019-08-19T02:10:00+00:00",
          "2019-08-19T02:15:00+00:00",
          "2019-08-19T02:20:00+00:00",
          "2019-08-19T02:25:00+00:00",
          "2019-08-19T02:30:00+00:00",
          "2019-08-19T02:35:00+00:00",
          "2019-08-19T02:40:00+00:00",
          "2019-08-19T02:45:00+00:00",
          "2019-08-19T02:50:00+00:00",
          "2019-08-19T02:55:00+00:00",
          "2019-08-19T03:00:00+00:00",
          "2019-08-19T03:05:00+00:00",
          "2019-08-19T03:10:00+00:00",
          "2019-08-19T03:15:00+00:00",
          "2019-08-19T03:20:00+00:00",
          "2019-08-19T03:25:00+00:00",
          "2019-08-19T03:30:00+00:00",
          "2019-08-19T03:35:00+00:00",
          "2019-08-19T03:40:00+00:00",
          "2019-08-19T03:45:00+00:00",
          "2019-08-19T03:50:00+00:00",
          "2019-08-19T03:55:00+00:00",
          "2019-08-19T04:00:00+00:00",
          "2019-08-19T04:05:00+00:00",
          "2019-08-19T04:10:00+00:00",
          "2019-08-19T04:15:00+00:00",
          "2019-08-19T04:20:00+00:00",
          "2019-08-19T04:25:00+00:00",
          "2019-08-19T04:30:00+00:00",
          "2019-08-19T04:35:00+00:00",
          "2019-08-19T04:40:00+00:00",
          "2019-08-19T04:45:00+00:00",
          "2019-08-19T04:50:00+00:00",
          "2019-08-19T04:55:00+00:00",
          "2019-08-19T05:00:00+00:00",
          "2019-08-19T05:05:00+00:00",
          "2019-08-19T05:10:00+00:00",
          "2019-08-19T05:15:00+00:00",
          "2019-08-19T05:20:00+00:00",
          "2019-08-19T05:25:00+00:00",
          "2019-08-19T05:30:00+00:00",
          "2019-08-19T05:35:00+00:00",
          "2019-08-19T05:40:00+00:00",
          "2019-08-19T05:45:00+00:00",
          "2019-08-19T05:50:00+00:00",
          "2019-08-19T05:55:00+00:00",
          "2019-08-19T06:00:00+00:00",
          "2019-08-19T06:05:00+00:00",
          "2019-08-19T06:10:00+00:00",
          "2019-08-19T06:15:00+00:00",
          "2019-08-19T06:20:00+00:00",
          "2019-08-19T06:25:00+00:00",
          "2019-08-19T06:30:00+00:00",
          "2019-08-19T06:35:00+00:00",
          "2019-08-19T06:40:00+00:00",
          "2019-08-19T06:45:00+00:00",
          "2019-08-19T06:50:00+00:00",
          "2019-08-19T06:55:00+00:00",
          "2019-08-19T07:00:00+00:00",
          "2019-08-19T07:05:00+00:00",
          "2019-08-19T21:10:00+00:00",
          "2019-08-19T21:15:00+00:00",
          "2019-08-19T21:20:00+00:00",
          "2019-08-19T21:25:00+00:00",
          "2019-08-19T21:30:00+00:00",
          "2019-08-19T21:35:00+00:00",
          "2019-08-19T21:40:00+00:00",
          "2019-08-19T21:45:00+00:00",
          "2019-08-19T21:50:00+00:00",
          "2019-08-19T21:55:00+00:00",
          "2019-08-19T22:00:00+00:00",
          "2019-08-19T22:05:00+00:00",
          "2019-08-19T22:10:00+00:00",
          "2019-08-19T22:15:00+00:00",
          "2019-08-19T22:20:00+00:00",
          "2019-08-19T22:25:00+00:00",
          "2019-08-19T22:30:00+00:00",
          "2019-08-19T22:35:00+00:00",
          "2019-08-19T22:40:00+00:00",
          "2019-08-19T22:45:00+00:00",
          "2019-08-19T22:50:00+00:00",
          "2019-08-19T22:55:00+00:00",
          "2019-08-19T23:00:00+00:00",
          "2019-08-19T23:05:00+00:00",
          "2019-08-19T23:10:00+00:00",
          "2019-08-19T23:15:00+00:00",
          "2019-08-19T23:20:00+00:00",
          "2019-08-19T23:25:00+00:00",
          "2019-08-19T23:30:00+00:00",
          "2019-08-19T23:35:00+00:00",
          "2019-08-19T23:40:00+00:00",
          "2019-08-19T23:45:00+00:00",
          "2019-08-19T23:50:00+00:00",
          "2019-08-19T23:55:00+00:00"
         ],
         "y": [
          10352.316739260768,
          10347.872197082432,
          10335.9983179768,
          10335.404454704541,
          10342.251305230417,
          10341.700462008905,
          10338.219894198612,
          10335.489793523191,
          10331.599138533951,
          10336.426085878018,
          10347.553957090166,
          10351.384946143051,
          10357.077582923377,
          10369.259316731692,
          10371.734194191426,
          10373.625322580674,
          10376.969231897276,
          10372.2714217925,
          10377.753931709394,
          10382.390447882492,
          10377.101593161942,
          10382.957452363176,
          10393.247560989015,
          10403.927768043299,
          10418.459015579912,
          10425.239372663604,
          10424.26196290636,
          10430.48102729347,
          10436.163005554068,
          10434.588917453386,
          10429.347942197044,
          10418.767408924947,
          10424.654440274944,
          10433.791822425876,
          10427.339448294091,
          10421.671070140654,
          10419.989437685674,
          10421.033207447555,
          10427.753083135272,
          10414.332304124442,
          10414.587629229405,
          10432.651531592957,
          10451.88246653354,
          10470.95146335634,
          10482.852730368459,
          10490.100280275865,
          10498.796726827193,
          10497.184232946043,
          10492.706868239637,
          10484.989457918904,
          10477.023491124113,
          10474.687000627604,
          10464.421668909692,
          10452.59895514468,
          10440.516419289512,
          10428.700114413296,
          10425.619096580354,
          10421.311217212835,
          10406.282706317006,
          10402.732436290706,
          10402.172197258787,
          10402.899215731828,
          10404.166998253828,
          10396.943573850158,
          10390.195310650925,
          10394.46968401509,
          10395.701334993493,
          10396.345742149084,
          10402.271555926822,
          10408.220154899393,
          10418.047908458704,
          10429.415943479236,
          10431.69017355419,
          10436.723023065006,
          10445.519997880869,
          10447.73486581638,
          10448.214636743342,
          10445.929755189058,
          10444.848708317926,
          10467.010739267409,
          10473.979146447606,
          10476.893649640097,
          10481.79638535568,
          10495.201101132438,
          10519.004935618828,
          10567.267438270172,
          10706.656266860733,
          10715.064180951736,
          10714.32365873404,
          10714.795108954311,
          10712.858494477046,
          10711.120700078887,
          10714.81081420646,
          10716.643334140104,
          10711.017470969997,
          10715.035512229759,
          10719.92548411278,
          10725.159259263424,
          10729.590759276942,
          10729.040311804727,
          10732.156462466726,
          10738.352015443485,
          10743.561160588091,
          10750.1990581619,
          10754.171444270864,
          10767.233323355476,
          10782.894759995968,
          10796.220386906693,
          10809.485206353738,
          10816.958662903204,
          10819.766773333029,
          10823.792434200583,
          10822.225665916598,
          10820.867384134684,
          10817.401651430851,
          10816.246710743675,
          10816.776664742241,
          10819.787080575423,
          10826.580227672526,
          10832.41319294582
         ]
        }
       ],
       "layout": {
        "template": {
         "data": {
          "bar": [
           {
            "error_x": {
             "color": "#2a3f5f"
            },
            "error_y": {
             "color": "#2a3f5f"
            },
            "marker": {
             "line": {
              "color": "#E5ECF6",
              "width": 0.5
             }
            },
            "type": "bar"
           }
          ],
          "barpolar": [
           {
            "marker": {
             "line": {
              "color": "#E5ECF6",
              "width": 0.5
             }
            },
            "type": "barpolar"
           }
          ],
          "carpet": [
           {
            "aaxis": {
             "endlinecolor": "#2a3f5f",
             "gridcolor": "white",
             "linecolor": "white",
             "minorgridcolor": "white",
             "startlinecolor": "#2a3f5f"
            },
            "baxis": {
             "endlinecolor": "#2a3f5f",
             "gridcolor": "white",
             "linecolor": "white",
             "minorgridcolor": "white",
             "startlinecolor": "#2a3f5f"
            },
            "type": "carpet"
           }
          ],
          "choropleth": [
           {
            "colorbar": {
             "outlinewidth": 0,
             "ticks": ""
            },
            "type": "choropleth"
           }
          ],
          "contour": [
           {
            "colorbar": {
             "outlinewidth": 0,
             "ticks": ""
            },
            "colorscale": [
             [
              0,
              "#0d0887"
             ],
             [
              0.1111111111111111,
              "#46039f"
             ],
             [
              0.2222222222222222,
              "#7201a8"
             ],
             [
              0.3333333333333333,
              "#9c179e"
             ],
             [
              0.4444444444444444,
              "#bd3786"
             ],
             [
              0.5555555555555556,
              "#d8576b"
             ],
             [
              0.6666666666666666,
              "#ed7953"
             ],
             [
              0.7777777777777778,
              "#fb9f3a"
             ],
             [
              0.8888888888888888,
              "#fdca26"
             ],
             [
              1,
              "#f0f921"
             ]
            ],
            "type": "contour"
           }
          ],
          "contourcarpet": [
           {
            "colorbar": {
             "outlinewidth": 0,
             "ticks": ""
            },
            "type": "contourcarpet"
           }
          ],
          "heatmap": [
           {
            "colorbar": {
             "outlinewidth": 0,
             "ticks": ""
            },
            "colorscale": [
             [
              0,
              "#0d0887"
             ],
             [
              0.1111111111111111,
              "#46039f"
             ],
             [
              0.2222222222222222,
              "#7201a8"
             ],
             [
              0.3333333333333333,
              "#9c179e"
             ],
             [
              0.4444444444444444,
              "#bd3786"
             ],
             [
              0.5555555555555556,
              "#d8576b"
             ],
             [
              0.6666666666666666,
              "#ed7953"
             ],
             [
              0.7777777777777778,
              "#fb9f3a"
             ],
             [
              0.8888888888888888,
              "#fdca26"
             ],
             [
              1,
              "#f0f921"
             ]
            ],
            "type": "heatmap"
           }
          ],
          "heatmapgl": [
           {
            "colorbar": {
             "outlinewidth": 0,
             "ticks": ""
            },
            "colorscale": [
             [
              0,
              "#0d0887"
             ],
             [
              0.1111111111111111,
              "#46039f"
             ],
             [
              0.2222222222222222,
              "#7201a8"
             ],
             [
              0.3333333333333333,
              "#9c179e"
             ],
             [
              0.4444444444444444,
              "#bd3786"
             ],
             [
              0.5555555555555556,
              "#d8576b"
             ],
             [
              0.6666666666666666,
              "#ed7953"
             ],
             [
              0.7777777777777778,
              "#fb9f3a"
             ],
             [
              0.8888888888888888,
              "#fdca26"
             ],
             [
              1,
              "#f0f921"
             ]
            ],
            "type": "heatmapgl"
           }
          ],
          "histogram": [
           {
            "marker": {
             "colorbar": {
              "outlinewidth": 0,
              "ticks": ""
             }
            },
            "type": "histogram"
           }
          ],
          "histogram2d": [
           {
            "colorbar": {
             "outlinewidth": 0,
             "ticks": ""
            },
            "colorscale": [
             [
              0,
              "#0d0887"
             ],
             [
              0.1111111111111111,
              "#46039f"
             ],
             [
              0.2222222222222222,
              "#7201a8"
             ],
             [
              0.3333333333333333,
              "#9c179e"
             ],
             [
              0.4444444444444444,
              "#bd3786"
             ],
             [
              0.5555555555555556,
              "#d8576b"
             ],
             [
              0.6666666666666666,
              "#ed7953"
             ],
             [
              0.7777777777777778,
              "#fb9f3a"
             ],
             [
              0.8888888888888888,
              "#fdca26"
             ],
             [
              1,
              "#f0f921"
             ]
            ],
            "type": "histogram2d"
           }
          ],
          "histogram2dcontour": [
           {
            "colorbar": {
             "outlinewidth": 0,
             "ticks": ""
            },
            "colorscale": [
             [
              0,
              "#0d0887"
             ],
             [
              0.1111111111111111,
              "#46039f"
             ],
             [
              0.2222222222222222,
              "#7201a8"
             ],
             [
              0.3333333333333333,
              "#9c179e"
             ],
             [
              0.4444444444444444,
              "#bd3786"
             ],
             [
              0.5555555555555556,
              "#d8576b"
             ],
             [
              0.6666666666666666,
              "#ed7953"
             ],
             [
              0.7777777777777778,
              "#fb9f3a"
             ],
             [
              0.8888888888888888,
              "#fdca26"
             ],
             [
              1,
              "#f0f921"
             ]
            ],
            "type": "histogram2dcontour"
           }
          ],
          "mesh3d": [
           {
            "colorbar": {
             "outlinewidth": 0,
             "ticks": ""
            },
            "type": "mesh3d"
           }
          ],
          "parcoords": [
           {
            "line": {
             "colorbar": {
              "outlinewidth": 0,
              "ticks": ""
             }
            },
            "type": "parcoords"
           }
          ],
          "scatter": [
           {
            "marker": {
             "colorbar": {
              "outlinewidth": 0,
              "ticks": ""
             }
            },
            "type": "scatter"
           }
          ],
          "scatter3d": [
           {
            "line": {
             "colorbar": {
              "outlinewidth": 0,
              "ticks": ""
             }
            },
            "marker": {
             "colorbar": {
              "outlinewidth": 0,
              "ticks": ""
             }
            },
            "type": "scatter3d"
           }
          ],
          "scattercarpet": [
           {
            "marker": {
             "colorbar": {
              "outlinewidth": 0,
              "ticks": ""
             }
            },
            "type": "scattercarpet"
           }
          ],
          "scattergeo": [
           {
            "marker": {
             "colorbar": {
              "outlinewidth": 0,
              "ticks": ""
             }
            },
            "type": "scattergeo"
           }
          ],
          "scattergl": [
           {
            "marker": {
             "colorbar": {
              "outlinewidth": 0,
              "ticks": ""
             }
            },
            "type": "scattergl"
           }
          ],
          "scattermapbox": [
           {
            "marker": {
             "colorbar": {
              "outlinewidth": 0,
              "ticks": ""
             }
            },
            "type": "scattermapbox"
           }
          ],
          "scatterpolar": [
           {
            "marker": {
             "colorbar": {
              "outlinewidth": 0,
              "ticks": ""
             }
            },
            "type": "scatterpolar"
           }
          ],
          "scatterpolargl": [
           {
            "marker": {
             "colorbar": {
              "outlinewidth": 0,
              "ticks": ""
             }
            },
            "type": "scatterpolargl"
           }
          ],
          "scatterternary": [
           {
            "marker": {
             "colorbar": {
              "outlinewidth": 0,
              "ticks": ""
             }
            },
            "type": "scatterternary"
           }
          ],
          "surface": [
           {
            "colorbar": {
             "outlinewidth": 0,
             "ticks": ""
            },
            "colorscale": [
             [
              0,
              "#0d0887"
             ],
             [
              0.1111111111111111,
              "#46039f"
             ],
             [
              0.2222222222222222,
              "#7201a8"
             ],
             [
              0.3333333333333333,
              "#9c179e"
             ],
             [
              0.4444444444444444,
              "#bd3786"
             ],
             [
              0.5555555555555556,
              "#d8576b"
             ],
             [
              0.6666666666666666,
              "#ed7953"
             ],
             [
              0.7777777777777778,
              "#fb9f3a"
             ],
             [
              0.8888888888888888,
              "#fdca26"
             ],
             [
              1,
              "#f0f921"
             ]
            ],
            "type": "surface"
           }
          ],
          "table": [
           {
            "cells": {
             "fill": {
              "color": "#EBF0F8"
             },
             "line": {
              "color": "white"
             }
            },
            "header": {
             "fill": {
              "color": "#C8D4E3"
             },
             "line": {
              "color": "white"
             }
            },
            "type": "table"
           }
          ]
         },
         "layout": {
          "annotationdefaults": {
           "arrowcolor": "#2a3f5f",
           "arrowhead": 0,
           "arrowwidth": 1
          },
          "colorscale": {
           "diverging": [
            [
             0,
             "#8e0152"
            ],
            [
             0.1,
             "#c51b7d"
            ],
            [
             0.2,
             "#de77ae"
            ],
            [
             0.3,
             "#f1b6da"
            ],
            [
             0.4,
             "#fde0ef"
            ],
            [
             0.5,
             "#f7f7f7"
            ],
            [
             0.6,
             "#e6f5d0"
            ],
            [
             0.7,
             "#b8e186"
            ],
            [
             0.8,
             "#7fbc41"
            ],
            [
             0.9,
             "#4d9221"
            ],
            [
             1,
             "#276419"
            ]
           ],
           "sequential": [
            [
             0,
             "#0d0887"
            ],
            [
             0.1111111111111111,
             "#46039f"
            ],
            [
             0.2222222222222222,
             "#7201a8"
            ],
            [
             0.3333333333333333,
             "#9c179e"
            ],
            [
             0.4444444444444444,
             "#bd3786"
            ],
            [
             0.5555555555555556,
             "#d8576b"
            ],
            [
             0.6666666666666666,
             "#ed7953"
            ],
            [
             0.7777777777777778,
             "#fb9f3a"
            ],
            [
             0.8888888888888888,
             "#fdca26"
            ],
            [
             1,
             "#f0f921"
            ]
           ],
           "sequentialminus": [
            [
             0,
             "#0d0887"
            ],
            [
             0.1111111111111111,
             "#46039f"
            ],
            [
             0.2222222222222222,
             "#7201a8"
            ],
            [
             0.3333333333333333,
             "#9c179e"
            ],
            [
             0.4444444444444444,
             "#bd3786"
            ],
            [
             0.5555555555555556,
             "#d8576b"
            ],
            [
             0.6666666666666666,
             "#ed7953"
            ],
            [
             0.7777777777777778,
             "#fb9f3a"
            ],
            [
             0.8888888888888888,
             "#fdca26"
            ],
            [
             1,
             "#f0f921"
            ]
           ]
          },
          "colorway": [
           "#636efa",
           "#EF553B",
           "#00cc96",
           "#ab63fa",
           "#FFA15A",
           "#19d3f3",
           "#FF6692",
           "#B6E880",
           "#FF97FF",
           "#FECB52"
          ],
          "font": {
           "color": "#2a3f5f"
          },
          "geo": {
           "bgcolor": "white",
           "lakecolor": "white",
           "landcolor": "#E5ECF6",
           "showlakes": true,
           "showland": true,
           "subunitcolor": "white"
          },
          "hoverlabel": {
           "align": "left"
          },
          "hovermode": "closest",
          "mapbox": {
           "style": "light"
          },
          "paper_bgcolor": "white",
          "plot_bgcolor": "#E5ECF6",
          "polar": {
           "angularaxis": {
            "gridcolor": "white",
            "linecolor": "white",
            "ticks": ""
           },
           "bgcolor": "#E5ECF6",
           "radialaxis": {
            "gridcolor": "white",
            "linecolor": "white",
            "ticks": ""
           }
          },
          "scene": {
           "xaxis": {
            "backgroundcolor": "#E5ECF6",
            "gridcolor": "white",
            "gridwidth": 2,
            "linecolor": "white",
            "showbackground": true,
            "ticks": "",
            "zerolinecolor": "white"
           },
           "yaxis": {
            "backgroundcolor": "#E5ECF6",
            "gridcolor": "white",
            "gridwidth": 2,
            "linecolor": "white",
            "showbackground": true,
            "ticks": "",
            "zerolinecolor": "white"
           },
           "zaxis": {
            "backgroundcolor": "#E5ECF6",
            "gridcolor": "white",
            "gridwidth": 2,
            "linecolor": "white",
            "showbackground": true,
            "ticks": "",
            "zerolinecolor": "white"
           }
          },
          "shapedefaults": {
           "line": {
            "color": "#2a3f5f"
           }
          },
          "ternary": {
           "aaxis": {
            "gridcolor": "white",
            "linecolor": "white",
            "ticks": ""
           },
           "baxis": {
            "gridcolor": "white",
            "linecolor": "white",
            "ticks": ""
           },
           "bgcolor": "#E5ECF6",
           "caxis": {
            "gridcolor": "white",
            "linecolor": "white",
            "ticks": ""
           }
          },
          "title": {
           "x": 0.05
          },
          "xaxis": {
           "automargin": true,
           "gridcolor": "white",
           "linecolor": "white",
           "ticks": "",
           "zerolinecolor": "white",
           "zerolinewidth": 2
          },
          "yaxis": {
           "automargin": true,
           "gridcolor": "white",
           "linecolor": "white",
           "ticks": "",
           "zerolinecolor": "white",
           "zerolinewidth": 2
          }
         }
        },
        "title": {
         "text": "Moving Average"
        },
        "xaxis": {
         "color": "green",
         "title": {
          "text": "Datetime"
         }
        },
        "yaxis": {
         "color": "red",
         "title": {
          "text": "AvgPrice"
         }
        }
       }
      },
      "text/html": [
       "<div>\n",
       "        \n",
       "        \n",
       "            <div id=\"32fb4e65-a798-495f-901b-d55f77f5d5cb\" class=\"plotly-graph-div\" style=\"height:525px; width:100%;\"></div>\n",
       "            <script type=\"text/javascript\">\n",
       "                require([\"plotly\"], function(Plotly) {\n",
       "                    window.PLOTLYENV=window.PLOTLYENV || {};\n",
       "                    \n",
       "                if (document.getElementById(\"32fb4e65-a798-495f-901b-d55f77f5d5cb\")) {\n",
       "                    Plotly.newPlot(\n",
       "                        '32fb4e65-a798-495f-901b-d55f77f5d5cb',\n",
       "                        [{\"type\": \"scatter\", \"x\": [\"2019-08-19T00:00:00+00:00\", \"2019-08-19T00:05:00+00:00\", \"2019-08-19T00:10:00+00:00\", \"2019-08-19T00:15:00+00:00\", \"2019-08-19T00:20:00+00:00\", \"2019-08-19T00:25:00+00:00\", \"2019-08-19T00:30:00+00:00\", \"2019-08-19T00:35:00+00:00\", \"2019-08-19T00:40:00+00:00\", \"2019-08-19T00:45:00+00:00\", \"2019-08-19T00:50:00+00:00\", \"2019-08-19T00:55:00+00:00\", \"2019-08-19T01:00:00+00:00\", \"2019-08-19T01:05:00+00:00\", \"2019-08-19T01:10:00+00:00\", \"2019-08-19T01:15:00+00:00\", \"2019-08-19T01:20:00+00:00\", \"2019-08-19T01:25:00+00:00\", \"2019-08-19T01:30:00+00:00\", \"2019-08-19T01:35:00+00:00\", \"2019-08-19T01:40:00+00:00\", \"2019-08-19T01:45:00+00:00\", \"2019-08-19T01:50:00+00:00\", \"2019-08-19T01:55:00+00:00\", \"2019-08-19T02:00:00+00:00\", \"2019-08-19T02:05:00+00:00\", \"2019-08-19T02:10:00+00:00\", \"2019-08-19T02:15:00+00:00\", \"2019-08-19T02:20:00+00:00\", \"2019-08-19T02:25:00+00:00\", \"2019-08-19T02:30:00+00:00\", \"2019-08-19T02:35:00+00:00\", \"2019-08-19T02:40:00+00:00\", \"2019-08-19T02:45:00+00:00\", \"2019-08-19T02:50:00+00:00\", \"2019-08-19T02:55:00+00:00\", \"2019-08-19T03:00:00+00:00\", \"2019-08-19T03:05:00+00:00\", \"2019-08-19T03:10:00+00:00\", \"2019-08-19T03:15:00+00:00\", \"2019-08-19T03:20:00+00:00\", \"2019-08-19T03:25:00+00:00\", \"2019-08-19T03:30:00+00:00\", \"2019-08-19T03:35:00+00:00\", \"2019-08-19T03:40:00+00:00\", \"2019-08-19T03:45:00+00:00\", \"2019-08-19T03:50:00+00:00\", \"2019-08-19T03:55:00+00:00\", \"2019-08-19T04:00:00+00:00\", \"2019-08-19T04:05:00+00:00\", \"2019-08-19T04:10:00+00:00\", \"2019-08-19T04:15:00+00:00\", \"2019-08-19T04:20:00+00:00\", \"2019-08-19T04:25:00+00:00\", \"2019-08-19T04:30:00+00:00\", \"2019-08-19T04:35:00+00:00\", \"2019-08-19T04:40:00+00:00\", \"2019-08-19T04:45:00+00:00\", \"2019-08-19T04:50:00+00:00\", \"2019-08-19T04:55:00+00:00\", \"2019-08-19T05:00:00+00:00\", \"2019-08-19T05:05:00+00:00\", \"2019-08-19T05:10:00+00:00\", \"2019-08-19T05:15:00+00:00\", \"2019-08-19T05:20:00+00:00\", \"2019-08-19T05:25:00+00:00\", \"2019-08-19T05:30:00+00:00\", \"2019-08-19T05:35:00+00:00\", \"2019-08-19T05:40:00+00:00\", \"2019-08-19T05:45:00+00:00\", \"2019-08-19T05:50:00+00:00\", \"2019-08-19T05:55:00+00:00\", \"2019-08-19T06:00:00+00:00\", \"2019-08-19T06:05:00+00:00\", \"2019-08-19T06:10:00+00:00\", \"2019-08-19T06:15:00+00:00\", \"2019-08-19T06:20:00+00:00\", \"2019-08-19T06:25:00+00:00\", \"2019-08-19T06:30:00+00:00\", \"2019-08-19T06:35:00+00:00\", \"2019-08-19T06:40:00+00:00\", \"2019-08-19T06:45:00+00:00\", \"2019-08-19T06:50:00+00:00\", \"2019-08-19T06:55:00+00:00\", \"2019-08-19T07:00:00+00:00\", \"2019-08-19T07:05:00+00:00\", \"2019-08-19T21:10:00+00:00\", \"2019-08-19T21:15:00+00:00\", \"2019-08-19T21:20:00+00:00\", \"2019-08-19T21:25:00+00:00\", \"2019-08-19T21:30:00+00:00\", \"2019-08-19T21:35:00+00:00\", \"2019-08-19T21:40:00+00:00\", \"2019-08-19T21:45:00+00:00\", \"2019-08-19T21:50:00+00:00\", \"2019-08-19T21:55:00+00:00\", \"2019-08-19T22:00:00+00:00\", \"2019-08-19T22:05:00+00:00\", \"2019-08-19T22:10:00+00:00\", \"2019-08-19T22:15:00+00:00\", \"2019-08-19T22:20:00+00:00\", \"2019-08-19T22:25:00+00:00\", \"2019-08-19T22:30:00+00:00\", \"2019-08-19T22:35:00+00:00\", \"2019-08-19T22:40:00+00:00\", \"2019-08-19T22:45:00+00:00\", \"2019-08-19T22:50:00+00:00\", \"2019-08-19T22:55:00+00:00\", \"2019-08-19T23:00:00+00:00\", \"2019-08-19T23:05:00+00:00\", \"2019-08-19T23:10:00+00:00\", \"2019-08-19T23:15:00+00:00\", \"2019-08-19T23:20:00+00:00\", \"2019-08-19T23:25:00+00:00\", \"2019-08-19T23:30:00+00:00\", \"2019-08-19T23:35:00+00:00\", \"2019-08-19T23:40:00+00:00\", \"2019-08-19T23:45:00+00:00\", \"2019-08-19T23:50:00+00:00\", \"2019-08-19T23:55:00+00:00\"], \"y\": [10352.316739260768, 10347.872197082432, 10335.9983179768, 10335.404454704541, 10342.251305230417, 10341.700462008905, 10338.219894198612, 10335.489793523191, 10331.599138533951, 10336.426085878018, 10347.553957090166, 10351.384946143051, 10357.077582923377, 10369.259316731692, 10371.734194191426, 10373.625322580674, 10376.969231897276, 10372.2714217925, 10377.753931709394, 10382.390447882492, 10377.101593161942, 10382.957452363176, 10393.247560989015, 10403.927768043299, 10418.459015579912, 10425.239372663604, 10424.26196290636, 10430.48102729347, 10436.163005554068, 10434.588917453386, 10429.347942197044, 10418.767408924947, 10424.654440274944, 10433.791822425876, 10427.339448294091, 10421.671070140654, 10419.989437685674, 10421.033207447555, 10427.753083135272, 10414.332304124442, 10414.587629229405, 10432.651531592957, 10451.88246653354, 10470.95146335634, 10482.852730368459, 10490.100280275865, 10498.796726827193, 10497.184232946043, 10492.706868239637, 10484.989457918904, 10477.023491124113, 10474.687000627604, 10464.421668909692, 10452.59895514468, 10440.516419289512, 10428.700114413296, 10425.619096580354, 10421.311217212835, 10406.282706317006, 10402.732436290706, 10402.172197258787, 10402.899215731828, 10404.166998253828, 10396.943573850158, 10390.195310650925, 10394.46968401509, 10395.701334993493, 10396.345742149084, 10402.271555926822, 10408.220154899393, 10418.047908458704, 10429.415943479236, 10431.69017355419, 10436.723023065006, 10445.519997880869, 10447.73486581638, 10448.214636743342, 10445.929755189058, 10444.848708317926, 10467.010739267409, 10473.979146447606, 10476.893649640097, 10481.79638535568, 10495.201101132438, 10519.004935618828, 10567.267438270172, 10706.656266860733, 10715.064180951736, 10714.32365873404, 10714.795108954311, 10712.858494477046, 10711.120700078887, 10714.81081420646, 10716.643334140104, 10711.017470969997, 10715.035512229759, 10719.92548411278, 10725.159259263424, 10729.590759276942, 10729.040311804727, 10732.156462466726, 10738.352015443485, 10743.561160588091, 10750.1990581619, 10754.171444270864, 10767.233323355476, 10782.894759995968, 10796.220386906693, 10809.485206353738, 10816.958662903204, 10819.766773333029, 10823.792434200583, 10822.225665916598, 10820.867384134684, 10817.401651430851, 10816.246710743675, 10816.776664742241, 10819.787080575423, 10826.580227672526, 10832.41319294582]}],\n",
       "                        {\"template\": {\"data\": {\"bar\": [{\"error_x\": {\"color\": \"#2a3f5f\"}, \"error_y\": {\"color\": \"#2a3f5f\"}, \"marker\": {\"line\": {\"color\": \"#E5ECF6\", \"width\": 0.5}}, \"type\": \"bar\"}], \"barpolar\": [{\"marker\": {\"line\": {\"color\": \"#E5ECF6\", \"width\": 0.5}}, \"type\": \"barpolar\"}], \"carpet\": [{\"aaxis\": {\"endlinecolor\": \"#2a3f5f\", \"gridcolor\": \"white\", \"linecolor\": \"white\", \"minorgridcolor\": \"white\", \"startlinecolor\": \"#2a3f5f\"}, \"baxis\": {\"endlinecolor\": \"#2a3f5f\", \"gridcolor\": \"white\", \"linecolor\": \"white\", \"minorgridcolor\": \"white\", \"startlinecolor\": \"#2a3f5f\"}, \"type\": \"carpet\"}], \"choropleth\": [{\"colorbar\": {\"outlinewidth\": 0, \"ticks\": \"\"}, \"type\": \"choropleth\"}], \"contour\": [{\"colorbar\": {\"outlinewidth\": 0, \"ticks\": \"\"}, \"colorscale\": [[0.0, \"#0d0887\"], [0.1111111111111111, \"#46039f\"], [0.2222222222222222, \"#7201a8\"], [0.3333333333333333, \"#9c179e\"], [0.4444444444444444, \"#bd3786\"], [0.5555555555555556, \"#d8576b\"], [0.6666666666666666, \"#ed7953\"], [0.7777777777777778, \"#fb9f3a\"], [0.8888888888888888, \"#fdca26\"], [1.0, \"#f0f921\"]], \"type\": \"contour\"}], \"contourcarpet\": [{\"colorbar\": {\"outlinewidth\": 0, \"ticks\": \"\"}, \"type\": \"contourcarpet\"}], \"heatmap\": [{\"colorbar\": {\"outlinewidth\": 0, \"ticks\": \"\"}, \"colorscale\": [[0.0, \"#0d0887\"], [0.1111111111111111, \"#46039f\"], [0.2222222222222222, \"#7201a8\"], [0.3333333333333333, \"#9c179e\"], [0.4444444444444444, \"#bd3786\"], [0.5555555555555556, \"#d8576b\"], [0.6666666666666666, \"#ed7953\"], [0.7777777777777778, \"#fb9f3a\"], [0.8888888888888888, \"#fdca26\"], [1.0, \"#f0f921\"]], \"type\": \"heatmap\"}], \"heatmapgl\": [{\"colorbar\": {\"outlinewidth\": 0, \"ticks\": \"\"}, \"colorscale\": [[0.0, \"#0d0887\"], [0.1111111111111111, \"#46039f\"], [0.2222222222222222, \"#7201a8\"], [0.3333333333333333, \"#9c179e\"], [0.4444444444444444, \"#bd3786\"], [0.5555555555555556, \"#d8576b\"], [0.6666666666666666, \"#ed7953\"], [0.7777777777777778, \"#fb9f3a\"], [0.8888888888888888, \"#fdca26\"], [1.0, \"#f0f921\"]], \"type\": \"heatmapgl\"}], \"histogram\": [{\"marker\": {\"colorbar\": {\"outlinewidth\": 0, \"ticks\": \"\"}}, \"type\": \"histogram\"}], \"histogram2d\": [{\"colorbar\": {\"outlinewidth\": 0, \"ticks\": \"\"}, \"colorscale\": [[0.0, \"#0d0887\"], [0.1111111111111111, \"#46039f\"], [0.2222222222222222, \"#7201a8\"], [0.3333333333333333, \"#9c179e\"], [0.4444444444444444, \"#bd3786\"], [0.5555555555555556, \"#d8576b\"], [0.6666666666666666, \"#ed7953\"], [0.7777777777777778, \"#fb9f3a\"], [0.8888888888888888, \"#fdca26\"], [1.0, \"#f0f921\"]], \"type\": \"histogram2d\"}], \"histogram2dcontour\": [{\"colorbar\": {\"outlinewidth\": 0, \"ticks\": \"\"}, \"colorscale\": [[0.0, \"#0d0887\"], [0.1111111111111111, \"#46039f\"], [0.2222222222222222, \"#7201a8\"], [0.3333333333333333, \"#9c179e\"], [0.4444444444444444, \"#bd3786\"], [0.5555555555555556, \"#d8576b\"], [0.6666666666666666, \"#ed7953\"], [0.7777777777777778, \"#fb9f3a\"], [0.8888888888888888, \"#fdca26\"], [1.0, \"#f0f921\"]], \"type\": \"histogram2dcontour\"}], \"mesh3d\": [{\"colorbar\": {\"outlinewidth\": 0, \"ticks\": \"\"}, \"type\": \"mesh3d\"}], \"parcoords\": [{\"line\": {\"colorbar\": {\"outlinewidth\": 0, \"ticks\": \"\"}}, \"type\": \"parcoords\"}], \"scatter\": [{\"marker\": {\"colorbar\": {\"outlinewidth\": 0, \"ticks\": \"\"}}, \"type\": \"scatter\"}], \"scatter3d\": [{\"line\": {\"colorbar\": {\"outlinewidth\": 0, \"ticks\": \"\"}}, \"marker\": {\"colorbar\": {\"outlinewidth\": 0, \"ticks\": \"\"}}, \"type\": \"scatter3d\"}], \"scattercarpet\": [{\"marker\": {\"colorbar\": {\"outlinewidth\": 0, \"ticks\": \"\"}}, \"type\": \"scattercarpet\"}], \"scattergeo\": [{\"marker\": {\"colorbar\": {\"outlinewidth\": 0, \"ticks\": \"\"}}, \"type\": \"scattergeo\"}], \"scattergl\": [{\"marker\": {\"colorbar\": {\"outlinewidth\": 0, \"ticks\": \"\"}}, \"type\": \"scattergl\"}], \"scattermapbox\": [{\"marker\": {\"colorbar\": {\"outlinewidth\": 0, \"ticks\": \"\"}}, \"type\": \"scattermapbox\"}], \"scatterpolar\": [{\"marker\": {\"colorbar\": {\"outlinewidth\": 0, \"ticks\": \"\"}}, \"type\": \"scatterpolar\"}], \"scatterpolargl\": [{\"marker\": {\"colorbar\": {\"outlinewidth\": 0, \"ticks\": \"\"}}, \"type\": \"scatterpolargl\"}], \"scatterternary\": [{\"marker\": {\"colorbar\": {\"outlinewidth\": 0, \"ticks\": \"\"}}, \"type\": \"scatterternary\"}], \"surface\": [{\"colorbar\": {\"outlinewidth\": 0, \"ticks\": \"\"}, \"colorscale\": [[0.0, \"#0d0887\"], [0.1111111111111111, \"#46039f\"], [0.2222222222222222, \"#7201a8\"], [0.3333333333333333, \"#9c179e\"], [0.4444444444444444, \"#bd3786\"], [0.5555555555555556, \"#d8576b\"], [0.6666666666666666, \"#ed7953\"], [0.7777777777777778, \"#fb9f3a\"], [0.8888888888888888, \"#fdca26\"], [1.0, \"#f0f921\"]], \"type\": \"surface\"}], \"table\": [{\"cells\": {\"fill\": {\"color\": \"#EBF0F8\"}, \"line\": {\"color\": \"white\"}}, \"header\": {\"fill\": {\"color\": \"#C8D4E3\"}, \"line\": {\"color\": \"white\"}}, \"type\": \"table\"}]}, \"layout\": {\"annotationdefaults\": {\"arrowcolor\": \"#2a3f5f\", \"arrowhead\": 0, \"arrowwidth\": 1}, \"colorscale\": {\"diverging\": [[0, \"#8e0152\"], [0.1, \"#c51b7d\"], [0.2, \"#de77ae\"], [0.3, \"#f1b6da\"], [0.4, \"#fde0ef\"], [0.5, \"#f7f7f7\"], [0.6, \"#e6f5d0\"], [0.7, \"#b8e186\"], [0.8, \"#7fbc41\"], [0.9, \"#4d9221\"], [1, \"#276419\"]], \"sequential\": [[0.0, \"#0d0887\"], [0.1111111111111111, \"#46039f\"], [0.2222222222222222, \"#7201a8\"], [0.3333333333333333, \"#9c179e\"], [0.4444444444444444, \"#bd3786\"], [0.5555555555555556, \"#d8576b\"], [0.6666666666666666, \"#ed7953\"], [0.7777777777777778, \"#fb9f3a\"], [0.8888888888888888, \"#fdca26\"], [1.0, \"#f0f921\"]], \"sequentialminus\": [[0.0, \"#0d0887\"], [0.1111111111111111, \"#46039f\"], [0.2222222222222222, \"#7201a8\"], [0.3333333333333333, \"#9c179e\"], [0.4444444444444444, \"#bd3786\"], [0.5555555555555556, \"#d8576b\"], [0.6666666666666666, \"#ed7953\"], [0.7777777777777778, \"#fb9f3a\"], [0.8888888888888888, \"#fdca26\"], [1.0, \"#f0f921\"]]}, \"colorway\": [\"#636efa\", \"#EF553B\", \"#00cc96\", \"#ab63fa\", \"#FFA15A\", \"#19d3f3\", \"#FF6692\", \"#B6E880\", \"#FF97FF\", \"#FECB52\"], \"font\": {\"color\": \"#2a3f5f\"}, \"geo\": {\"bgcolor\": \"white\", \"lakecolor\": \"white\", \"landcolor\": \"#E5ECF6\", \"showlakes\": true, \"showland\": true, \"subunitcolor\": \"white\"}, \"hoverlabel\": {\"align\": \"left\"}, \"hovermode\": \"closest\", \"mapbox\": {\"style\": \"light\"}, \"paper_bgcolor\": \"white\", \"plot_bgcolor\": \"#E5ECF6\", \"polar\": {\"angularaxis\": {\"gridcolor\": \"white\", \"linecolor\": \"white\", \"ticks\": \"\"}, \"bgcolor\": \"#E5ECF6\", \"radialaxis\": {\"gridcolor\": \"white\", \"linecolor\": \"white\", \"ticks\": \"\"}}, \"scene\": {\"xaxis\": {\"backgroundcolor\": \"#E5ECF6\", \"gridcolor\": \"white\", \"gridwidth\": 2, \"linecolor\": \"white\", \"showbackground\": true, \"ticks\": \"\", \"zerolinecolor\": \"white\"}, \"yaxis\": {\"backgroundcolor\": \"#E5ECF6\", \"gridcolor\": \"white\", \"gridwidth\": 2, \"linecolor\": \"white\", \"showbackground\": true, \"ticks\": \"\", \"zerolinecolor\": \"white\"}, \"zaxis\": {\"backgroundcolor\": \"#E5ECF6\", \"gridcolor\": \"white\", \"gridwidth\": 2, \"linecolor\": \"white\", \"showbackground\": true, \"ticks\": \"\", \"zerolinecolor\": \"white\"}}, \"shapedefaults\": {\"line\": {\"color\": \"#2a3f5f\"}}, \"ternary\": {\"aaxis\": {\"gridcolor\": \"white\", \"linecolor\": \"white\", \"ticks\": \"\"}, \"baxis\": {\"gridcolor\": \"white\", \"linecolor\": \"white\", \"ticks\": \"\"}, \"bgcolor\": \"#E5ECF6\", \"caxis\": {\"gridcolor\": \"white\", \"linecolor\": \"white\", \"ticks\": \"\"}}, \"title\": {\"x\": 0.05}, \"xaxis\": {\"automargin\": true, \"gridcolor\": \"white\", \"linecolor\": \"white\", \"ticks\": \"\", \"zerolinecolor\": \"white\", \"zerolinewidth\": 2}, \"yaxis\": {\"automargin\": true, \"gridcolor\": \"white\", \"linecolor\": \"white\", \"ticks\": \"\", \"zerolinecolor\": \"white\", \"zerolinewidth\": 2}}}, \"title\": {\"text\": \"Moving Average\"}, \"xaxis\": {\"color\": \"green\", \"title\": {\"text\": \"Datetime\"}}, \"yaxis\": {\"color\": \"red\", \"title\": {\"text\": \"AvgPrice\"}}},\n",
       "                        {\"responsive\": true}\n",
       "                    ).then(function(){\n",
       "                            \n",
       "var gd = document.getElementById('32fb4e65-a798-495f-901b-d55f77f5d5cb');\n",
       "var x = new MutationObserver(function (mutations, observer) {{\n",
       "        var display = window.getComputedStyle(gd).display;\n",
       "        if (!display || display === 'none') {{\n",
       "            console.log([gd, 'removed!']);\n",
       "            Plotly.purge(gd);\n",
       "            observer.disconnect();\n",
       "        }}\n",
       "}});\n",
       "\n",
       "// Listen for the removal of the full notebook cells\n",
       "var notebookContainer = gd.closest('#notebook-container');\n",
       "if (notebookContainer) {{\n",
       "    x.observe(notebookContainer, {childList: true});\n",
       "}}\n",
       "\n",
       "// Listen for the clearing of the current output cell\n",
       "var outputEl = gd.closest('.output');\n",
       "if (outputEl) {{\n",
       "    x.observe(outputEl, {childList: true});\n",
       "}}\n",
       "\n",
       "                        })\n",
       "                };\n",
       "                });\n",
       "            </script>\n",
       "        </div>"
      ]
     },
     "metadata": {},
     "output_type": "display_data"
    }
   ],
   "source": [
    "pri_data = go.Scatter(x=pri.index,y=pri.values)\n",
    "layout = go.Layout(title='Moving Average', xaxis=dict(title='Datetime', color='green'),\n",
    "                  yaxis=dict(title='AvgPrice', color='red'))\n",
    "fig = go.Figure(data=[pri_data], layout=layout)\n",
    "iplot(fig)"
   ]
  },
  {
   "cell_type": "code",
   "execution_count": null,
   "metadata": {},
   "outputs": [],
   "source": []
  }
 ],
 "metadata": {
  "kernelspec": {
   "display_name": "Python 3",
   "language": "python",
   "name": "python3"
  },
  "language_info": {
   "codemirror_mode": {
    "name": "ipython",
    "version": 3
   },
   "file_extension": ".py",
   "mimetype": "text/x-python",
   "name": "python",
   "nbconvert_exporter": "python",
   "pygments_lexer": "ipython3",
   "version": "3.7.3"
  }
 },
 "nbformat": 4,
 "nbformat_minor": 2
}
